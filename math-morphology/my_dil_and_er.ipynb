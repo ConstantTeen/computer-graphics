{
 "cells": [
  {
   "cell_type": "code",
   "execution_count": 13,
   "metadata": {},
   "outputs": [],
   "source": [
    "from skimage.morphology import disk\n",
    "from skimage.morphology import square\n",
    "from skimage.morphology import diamond\n",
    "from skimage.io import imread\n",
    "from skimage.io import imshow\n",
    "from skimage.io import imsave\n",
    "import numpy as np\n",
    "import matplotlib.pyplot as plt\n",
    "from skimage import img_as_ubyte\n",
    "from skimage.transform import rotate"
   ]
  },
  {
   "cell_type": "code",
   "execution_count": 25,
   "metadata": {},
   "outputs": [],
   "source": [
    "def getRhombus(size=5):\n",
    "    return diamond(size//2)*255"
   ]
  },
  {
   "cell_type": "code",
   "execution_count": 26,
   "metadata": {},
   "outputs": [],
   "source": [
    "pic = imread('pic.png')\n",
    "selem = getRhombus() "
   ]
  },
  {
   "cell_type": "code",
   "execution_count": 27,
   "metadata": {},
   "outputs": [
    {
     "data": {
      "text/plain": [
       "<matplotlib.image.AxesImage at 0x7fa00e95a490>"
      ]
     },
     "execution_count": 27,
     "metadata": {},
     "output_type": "execute_result"
    },
    {
     "data": {
      "image/png": "[encoded data removed]",
      "text/plain": [
       "<Figure size 432x288 with 1 Axes>"
      ]
     },
     "metadata": {
      "needs_background": "light"
     },
     "output_type": "display_data"
    }
   ],
   "source": [
    "imshow(selem)"
   ]
  },
  {
   "cell_type": "code",
   "execution_count": 17,
   "metadata": {},
   "outputs": [],
   "source": [
    "def dilation(image, selem, origin=tuple(map(lambda x: x//2, selem.shape)),threshold = 200):\n",
    "    result = image.copy()\n",
    "   \n",
    "    result_y, result_x = result.shape\n",
    "    selem_y, selem_x = selem.shape\n",
    "    origin_y, origin_x = origin\n",
    "    \n",
    "    for i, row in enumerate(image[origin_y:result_y-selem_y + origin_y, origin_x:result_x-selem_x + origin_x]):\n",
    "        for j, elem in enumerate(row):\n",
    "            if(image[i+origin_y,j+origin_x] > threshold):\n",
    "                result[i:i+selem_y,j:j+selem_x] |= selem\n",
    "\n",
    "    return result    "
   ]
  },
  {
   "cell_type": "code",
   "execution_count": 18,
   "metadata": {
    "scrolled": true
   },
   "outputs": [
    {
     "data": {
      "text/plain": [
       "<matplotlib.image.AxesImage at 0x7fa00f9f8cd0>"
      ]
     },
     "execution_count": 18,
     "metadata": {},
     "output_type": "execute_result"
    },
    {
     "data": {
      "image/png": "[encoded data removed]",
      "text/plain": [
       "<Figure size 432x288 with 1 Axes>"
      ]
     },
     "metadata": {
      "needs_background": "light"
     },
     "output_type": "display_data"
    }
   ],
   "source": [
    "dil = dilation(pic,selem)\n",
    "imshow(dil)"
   ]
  },
  {
   "cell_type": "code",
   "execution_count": 19,
   "metadata": {},
   "outputs": [],
   "source": [
    "def same(elem1, elem2):\n",
    "    y,x = elem1.shape\n",
    "    for i in range(y):\n",
    "        for j in range(x):\n",
    "            if(elem1[i,j] > 200 and elem2[i,j] == 0):\n",
    "                return False\n",
    "    \n",
    "    return True\n",
    "    \n",
    "    \n",
    "def erosion(image, selem, origin=map(lambda x: x//2, selem.shape)):   \n",
    "    image_y, image_x = image.shape\n",
    "    selem_y, selem_x = selem.shape\n",
    "    origin_y, origin_x = origin\n",
    "    \n",
    "    # создаю копию image с рамкой под selem\n",
    "    external = np.tile(0, (image_y+selem_y, image_x+selem_x) )\n",
    "    external[origin_y:origin_y+image_y,origin_x:origin_x+image_x] = image.copy()\n",
    "    external = img_as_ubyte(external)\n",
    "    external_y, external_x = external.shape\n",
    "    res = external.copy()\n",
    "    \n",
    "    for i in range(0, image_y):\n",
    "        for j in range(0, image_x):\n",
    "            cut_lx, cut_rx, cut_ly,cut_ry = j, j+selem_x, i, i+selem_y\n",
    "            cut = external[cut_ly:cut_ry, cut_lx:cut_rx]\n",
    "            if (not same(selem, cut)):\n",
    "                res[i+origin_y,j+origin_x] = 0\n",
    "    \n",
    "    return res"
   ]
  },
  {
   "cell_type": "code",
   "execution_count": 20,
   "metadata": {},
   "outputs": [
    {
     "name": "stderr",
     "output_type": "stream",
     "text": [
      "/home/konstantin/anaconda3/lib/python3.7/site-packages/skimage/util/dtype.py:131: UserWarning: Possible sign loss when converting negative image of type int64 to positive image of type uint8.\n",
      "  .format(dtypeobj_in, dtypeobj_out))\n",
      "/home/konstantin/anaconda3/lib/python3.7/site-packages/skimage/util/dtype.py:184: UserWarning: Downcasting int64 to uint8 without scaling because max value 255 fits in uint8\n",
      "  \"value {} fits in {}\".format(a.dtype, dtype, a.max(), dtype))\n"
     ]
    },
    {
     "data": {
      "text/plain": [
       "<matplotlib.image.AxesImage at 0x7fa00e9adad0>"
      ]
     },
     "execution_count": 20,
     "metadata": {},
     "output_type": "execute_result"
    },
    {
     "data": {
      "image/png": "[encoded data removed]",
      "text/plain": [
       "<Figure size 432x288 with 1 Axes>"
      ]
     },
     "metadata": {
      "needs_background": "light"
     },
     "output_type": "display_data"
    }
   ],
   "source": [
    "er = erosion(pic,selem)\n",
    "imshow(er)"
   ]
  },
  {
   "cell_type": "code",
   "execution_count": 21,
   "metadata": {},
   "outputs": [
    {
     "data": {
      "image/png": "[encoded data removed]",
      "text/plain": [
       "<Figure size 432x288 with 1 Axes>"
      ]
     },
     "metadata": {
      "needs_background": "light"
     },
     "output_type": "display_data"
    }
   ],
   "source": [
    "imshow(pic)\n",
    "imsave('my_dilation.png', dil)\n",
    "imsave('my_erosion.png', er)"
   ]
  }
 ],
 "metadata": {
  "kernelspec": {
   "display_name": "Python 3",
   "language": "python",
   "name": "python3"
  },
  "language_info": {
   "codemirror_mode": {
    "name": "ipython",
    "version": 3
   },
   "file_extension": ".py",
   "mimetype": "text/x-python",
   "name": "python",
   "nbconvert_exporter": "python",
   "pygments_lexer": "ipython3",
   "version": "3.7.4"
  }
 },
 "nbformat": 4,
 "nbformat_minor": 2
}
