{
 "cells": [
  {
   "cell_type": "code",
   "execution_count": 1,
   "metadata": {},
   "outputs": [],
   "source": [
    "from skimage.io import imread\n",
    "from skimage.io import imsave\n",
    "from skimage.morphology import erosion\n",
    "from skimage.morphology import dilation\n",
    "from skimage.morphology import disk\n",
    "from skimage.morphology import square\n",
    "import matplotlib.pyplot as plt\n",
    "\n",
    "pic = imread('pic.png')\n",
    "selem = square(4)\n",
    "er = erosion(pic,selem)\n",
    "dil = dilation(pic,selem)\n",
    "\n",
    "# imsave('pic.png', pic)\n",
    "imsave('python_dilation.png', dil)\n",
    "imsave('python_erosion.png', er)"
   ]
  }
 ],
 "metadata": {
  "kernelspec": {
   "display_name": "Python 3",
   "language": "python",
   "name": "python3"
  },
  "language_info": {
   "codemirror_mode": {
    "name": "ipython",
    "version": 3
   },
   "file_extension": ".py",
   "mimetype": "text/x-python",
   "name": "python",
   "nbconvert_exporter": "python",
   "pygments_lexer": "ipython3",
   "version": "3.7.4"
  }
 },
 "nbformat": 4,
 "nbformat_minor": 2
}
