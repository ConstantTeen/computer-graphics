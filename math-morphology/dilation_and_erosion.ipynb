{
 "cells": [
  {
   "cell_type": "code",
   "execution_count": 1,
   "metadata": {},
   "outputs": [],
   "source": [
    "from skimage.io import imread\n",
    "from skimage.io import imsave\n",
    "from skimage.morphology import erosion\n",
    "from skimage.morphology import dilation\n",
    "from skimage.morphology import disk\n",
    "from skimage.morphology import square\n",
    "import matplotlib.pyplot as plt\n",
    "from skimage.morphology import diamond\n",
    "\n",
    "pic = imread('pic.png')\n",
    "treshold = 240\n",
    "\n",
    "for i in range(pic.shape[0]):\n",
    "    for j in range(pic.shape[1]):\n",
    "        if pic[i,j] > treshold:\n",
    "            pic[i,j] = 255\n",
    "        else:\n",
    "            pic[i,j] = 0\n",
    "\n",
    "def getRhombus(size=5):\n",
    "    return diamond(size//2)*255         \n",
    "            \n",
    "selem = getRhombus()\n",
    "er = erosion(pic,selem)\n",
    "dil = dilation(pic,selem)\n",
    "\n",
    "# imsave('pic.png', pic)\n",
    "imsave('bin_python_dilation.png', dil)\n",
    "imsave('bin_python_erosion.png', er)"
   ]
  }
 ],
 "metadata": {
  "kernelspec": {
   "display_name": "Python 3",
   "language": "python",
   "name": "python3"
  },
  "language_info": {
   "codemirror_mode": {
    "name": "ipython",
    "version": 3
   },
   "file_extension": ".py",
   "mimetype": "text/x-python",
   "name": "python",
   "nbconvert_exporter": "python",
   "pygments_lexer": "ipython3",
   "version": "3.7.4"
  }
 },
 "nbformat": 4,
 "nbformat_minor": 2
}
