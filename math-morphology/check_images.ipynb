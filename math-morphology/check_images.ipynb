{
 "cells": [
  {
   "cell_type": "code",
   "execution_count": 28,
   "metadata": {},
   "outputs": [],
   "source": [
    "from skimage.io import imread\n",
    "from skimage.io import imshow\n",
    "from skimage.io import imsave\n",
    "from skimage.transform import resize\n",
    "from numpy.linalg import norm\n",
    "import numpy as np"
   ]
  },
  {
   "cell_type": "code",
   "execution_count": 34,
   "metadata": {},
   "outputs": [],
   "source": [
    "my_dilation = imread('my_dilation.png')\n",
    "my_erosion = imread('my_erosion.png')\n",
    "py_dilation = imread('bin_python_dilation.png')\n",
    "py_erosion = imread('bin_python_erosion.png')\n",
    "\n",
    "my_dilation = resize(my_dilation, py_dilation.shape)\n",
    "my_erosion = resize(my_erosion, py_erosion.shape)"
   ]
  },
  {
   "cell_type": "code",
   "execution_count": 37,
   "metadata": {},
   "outputs": [],
   "source": [
    "def compare(matrix1, matrix2):\n",
    "    mask = matrix1 == matrix2\n",
    "    size = matrix1.shape\n",
    "    elems_num = size[0]*size[1]\n",
    "    trues_num = 0\n",
    "    \n",
    "    for i in range(size[0]):\n",
    "        for j in range(size[1]):\n",
    "            if mask[i,j] == True:\n",
    "                trues_num+= 1\n",
    "    print(trues_num, elems_num)\n",
    "    return trues_num/elems_num"
   ]
  },
  {
   "cell_type": "code",
   "execution_count": 38,
   "metadata": {},
   "outputs": [
    {
     "name": "stdout",
     "output_type": "stream",
     "text": [
      "74912 90000\n",
      "Степень совпадения расширения:  0.8323555555555555\n",
      "82130 90000\n",
      "Степень совпадения сужения:  0.9125555555555556\n"
     ]
    }
   ],
   "source": [
    "print(\"Степень совпадения расширения: \", compare(my_dilation, py_dilation))\n",
    "print(\"Степень совпадения сужения: \", compare(my_erosion, py_erosion))"
   ]
  }
 ],
 "metadata": {
  "kernelspec": {
   "display_name": "Python 3",
   "language": "python",
   "name": "python3"
  },
  "language_info": {
   "codemirror_mode": {
    "name": "ipython",
    "version": 3
   },
   "file_extension": ".py",
   "mimetype": "text/x-python",
   "name": "python",
   "nbconvert_exporter": "python",
   "pygments_lexer": "ipython3",
   "version": "3.7.4"
  }
 },
 "nbformat": 4,
 "nbformat_minor": 2
}
