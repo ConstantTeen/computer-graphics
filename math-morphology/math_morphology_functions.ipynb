{
 "cells": [
  {
   "cell_type": "code",
   "execution_count": 143,
   "metadata": {},
   "outputs": [],
   "source": [
    "from skimage.morphology import erosion\n",
    "from skimage.morphology import dilation\n",
    "from skimage.morphology import disk\n",
    "from skimage.morphology import square\n",
    "from skimage.morphology import diamond\n",
    "import matplotlib.pyplot as plt\n",
    "from skimage.io import imread\n",
    "from skimage.io import imsave\n",
    "from skimage.io import imshow\n",
    "import numpy as np\n",
    "from skimage import img_as_ubyte"
   ]
  },
  {
   "cell_type": "code",
   "execution_count": 144,
   "metadata": {},
   "outputs": [],
   "source": [
    "pic = imread('./pictures/pic.png')\n",
    "selem = diamond(2)*255"
   ]
  },
  {
   "cell_type": "code",
   "execution_count": 145,
   "metadata": {},
   "outputs": [],
   "source": [
    "def pic2bin(pic, threshold=200):\n",
    "    bin_pic = pic.copy()\n",
    "    y, x = pic.shape\n",
    "    \n",
    "    for i in range(y):\n",
    "        for j in range(x):\n",
    "            if pic[i,j] > 200:\n",
    "                bin_pic[i,j] = 255\n",
    "            else:\n",
    "                bin_pic[i,j] = 0\n",
    "    \n",
    "    return bin_pic"
   ]
  },
  {
   "cell_type": "code",
   "execution_count": 146,
   "metadata": {},
   "outputs": [],
   "source": [
    "pic = pic2bin(pic)"
   ]
  },
  {
   "cell_type": "code",
   "execution_count": 89,
   "metadata": {
    "scrolled": true
   },
   "outputs": [],
   "source": [
    "# imshow(pic)\n",
    "# plt.figure()\n",
    "# imshow(selem)"
   ]
  },
  {
   "cell_type": "code",
   "execution_count": 147,
   "metadata": {},
   "outputs": [],
   "source": [
    "def my_dilation(image, selem, origin=map(lambda x: x//2, selem.shape)):\n",
    "    result = image.copy()\n",
    "   \n",
    "    result_y, result_x = result.shape\n",
    "    selem_y, selem_x = selem.shape\n",
    "    origin_y, origin_x = origin\n",
    "    \n",
    "    for i in range(origin_y, result_y-selem_y + origin_y):\n",
    "        for j in range(origin_x, result_x-selem_x + origin_x):\n",
    "            if(image[i+origin_y,j+origin_x] == 255):\n",
    "                result[i:i+selem_y,j:j+selem_x] |= selem\n",
    "\n",
    "    return result "
   ]
  },
  {
   "cell_type": "code",
   "execution_count": 148,
   "metadata": {},
   "outputs": [],
   "source": [
    "dil = my_dilation(pic,selem)\n",
    "dil2 = dilation(pic,selem)"
   ]
  },
  {
   "cell_type": "code",
   "execution_count": 95,
   "metadata": {},
   "outputs": [],
   "source": [
    "# imshow(dil)\n",
    "# imshow(dil2)"
   ]
  },
  {
   "cell_type": "code",
   "execution_count": 149,
   "metadata": {},
   "outputs": [
    {
     "data": {
      "text/plain": [
       "True"
      ]
     },
     "execution_count": 149,
     "metadata": {},
     "output_type": "execute_result"
    }
   ],
   "source": [
    "# проверка совпадения\n",
    "(dil == dil2).all()"
   ]
  },
  {
   "cell_type": "code",
   "execution_count": 150,
   "metadata": {},
   "outputs": [],
   "source": [
    "def same(elem1, elem2):\n",
    "    y,x = elem1.shape\n",
    "    for i in range(y):\n",
    "        for j in range(x):\n",
    "            if(elem1[i,j] == 255 and elem2[i,j] == 0):\n",
    "                return False\n",
    "    \n",
    "    return True\n",
    "\n",
    "def my_erosion(image, selem, origin=map(lambda x: x//2, selem.shape)):   \n",
    "    image_y, image_x = image.shape\n",
    "    selem_y, selem_x = selem.shape\n",
    "    origin_y, origin_x = origin\n",
    "    \n",
    "    # создаю копию image с рамкой под selem\n",
    "    external = np.tile(0, (image_y+selem_y, image_x+selem_x))\n",
    "    external[origin_y:origin_y+image_y,origin_x:origin_x+image_x] = image.copy()\n",
    "    external = img_as_ubyte(external)\n",
    "    external_y, external_x = external.shape\n",
    "    res = external.copy()\n",
    "    \n",
    "    for i in range(image_y):\n",
    "        for j in range(image_x):\n",
    "            cut_lx, cut_rx, cut_ly,cut_ry = j, j+selem_x, i, i+selem_y\n",
    "            cut = external[cut_ly:cut_ry, cut_lx:cut_rx]\n",
    "            \n",
    "            if not same(selem, cut):\n",
    "                res[i+origin_y,j+origin_x] = 0\n",
    "    \n",
    "    return res[origin_y:origin_y+image_y,origin_x:origin_x+image_x]"
   ]
  },
  {
   "cell_type": "code",
   "execution_count": 151,
   "metadata": {},
   "outputs": [],
   "source": [
    "er = my_erosion(pic, selem)\n",
    "er2 = erosion(pic, selem)"
   ]
  },
  {
   "cell_type": "code",
   "execution_count": 152,
   "metadata": {},
   "outputs": [],
   "source": [
    "# imshow(er)\n",
    "# imshow(er2)"
   ]
  },
  {
   "cell_type": "code",
   "execution_count": 153,
   "metadata": {},
   "outputs": [
    {
     "data": {
      "text/plain": [
       "True"
      ]
     },
     "execution_count": 153,
     "metadata": {},
     "output_type": "execute_result"
    }
   ],
   "source": [
    "# проверка совпадения\n",
    "(er == er2).all()"
   ]
  },
  {
   "cell_type": "code",
   "execution_count": 155,
   "metadata": {},
   "outputs": [],
   "source": [
    "imsave('./pictures/my_dilation.png', dil)\n",
    "imsave('./pictures/py_dilation.png', dil2)\n",
    "imsave('./pictures/my_erosion.png', er)\n",
    "imsave('./pictures/py_erosion.png', er2)"
   ]
  }
 ],
 "metadata": {
  "kernelspec": {
   "display_name": "Python 3",
   "language": "python",
   "name": "python3"
  },
  "language_info": {
   "codemirror_mode": {
    "name": "ipython",
    "version": 3
   },
   "file_extension": ".py",
   "mimetype": "text/x-python",
   "name": "python",
   "nbconvert_exporter": "python",
   "pygments_lexer": "ipython3",
   "version": "3.7.4"
  }
 },
 "nbformat": 4,
 "nbformat_minor": 2
}
